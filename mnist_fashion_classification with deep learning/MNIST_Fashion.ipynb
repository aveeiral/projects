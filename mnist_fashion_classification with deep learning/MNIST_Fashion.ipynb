{
  "nbformat": 4,
  "nbformat_minor": 0,
  "metadata": {
    "colab": {
      "name": "MNIST_Fashion.ipynb",
      "provenance": [],
      "collapsed_sections": []
    },
    "kernelspec": {
      "name": "python3",
      "display_name": "Python 3"
    }
  },
  "cells": [
    {
      "cell_type": "code",
      "metadata": {
        "id": "11yeOBCDczRG"
      },
      "source": [
        "import tensorflow as tf"
      ],
      "execution_count": 2,
      "outputs": []
    },
    {
      "cell_type": "code",
      "metadata": {
        "id": "ULgAcOt-dNMi"
      },
      "source": [
        "tf.__version__\r\n",
        "from tensorflow import keras"
      ],
      "execution_count": 3,
      "outputs": []
    },
    {
      "cell_type": "code",
      "metadata": {
        "colab": {
          "base_uri": "https://localhost:8080/",
          "height": 35
        },
        "id": "bWtBuV7Z3Szr",
        "outputId": "9dede3ac-87e9-4c44-f53d-a8e58dd7fadd"
      },
      "source": [
        "keras.__version__"
      ],
      "execution_count": 4,
      "outputs": [
        {
          "output_type": "execute_result",
          "data": {
            "application/vnd.google.colaboratory.intrinsic+json": {
              "type": "string"
            },
            "text/plain": [
              "'2.4.0'"
            ]
          },
          "metadata": {
            "tags": []
          },
          "execution_count": 4
        }
      ]
    },
    {
      "cell_type": "markdown",
      "metadata": {
        "id": "UBYmjNLg42_u"
      },
      "source": [
        "**Importing libraries** "
      ]
    },
    {
      "cell_type": "code",
      "metadata": {
        "id": "gtCJinc74Ctc"
      },
      "source": [
        "import numpy as np\r\n",
        "import pandas as pd\r\n",
        "import matplotlib.pyplot as plt\r\n"
      ],
      "execution_count": 5,
      "outputs": []
    },
    {
      "cell_type": "markdown",
      "metadata": {
        "id": "2Iu-URGs5C7Q"
      },
      "source": [
        "Importing Fashion Mnist dataset from keras.datasets\r\n"
      ]
    },
    {
      "cell_type": "code",
      "metadata": {
        "colab": {
          "base_uri": "https://localhost:8080/"
        },
        "id": "F7hKRNIZ5K7N",
        "outputId": "9a4a9c67-c6e8-42e0-adf3-bd496d72388e"
      },
      "source": [
        "fashion_mnist = keras.datasets.fashion_mnist\r\n",
        "(X_train_full,y_train_full), (X_test, y_test) = fashion_mnist.load_data()"
      ],
      "execution_count": 6,
      "outputs": [
        {
          "output_type": "stream",
          "text": [
            "Downloading data from https://storage.googleapis.com/tensorflow/tf-keras-datasets/train-labels-idx1-ubyte.gz\n",
            "32768/29515 [=================================] - 0s 0us/step\n",
            "Downloading data from https://storage.googleapis.com/tensorflow/tf-keras-datasets/train-images-idx3-ubyte.gz\n",
            "26427392/26421880 [==============================] - 0s 0us/step\n",
            "Downloading data from https://storage.googleapis.com/tensorflow/tf-keras-datasets/t10k-labels-idx1-ubyte.gz\n",
            "8192/5148 [===============================================] - 0s 0us/step\n",
            "Downloading data from https://storage.googleapis.com/tensorflow/tf-keras-datasets/t10k-images-idx3-ubyte.gz\n",
            "4423680/4422102 [==============================] - 0s 0us/step\n"
          ],
          "name": "stdout"
        }
      ]
    },
    {
      "cell_type": "code",
      "metadata": {
        "colab": {
          "base_uri": "https://localhost:8080/",
          "height": 282
        },
        "id": "t6ZAGWxo6OgU",
        "outputId": "77e71277-1fa7-415d-9be0-0f029c39ba0e"
      },
      "source": [
        "plt.imshow(X_train_full[2])\r\n",
        "y_train_full[2]"
      ],
      "execution_count": 7,
      "outputs": [
        {
          "output_type": "execute_result",
          "data": {
            "text/plain": [
              "0"
            ]
          },
          "metadata": {
            "tags": []
          },
          "execution_count": 7
        },
        {
          "output_type": "display_data",
          "data": {
            "image/png": "[encoded data removed]",
            "text/plain": [
              "<Figure size 432x288 with 1 Axes>"
            ]
          },
          "metadata": {
            "tags": [],
            "needs_background": "light"
          }
        }
      ]
    },
    {
      "cell_type": "code",
      "metadata": {
        "colab": {
          "base_uri": "https://localhost:8080/"
        },
        "id": "HOIusPeF8AOY",
        "outputId": "942a8dd4-2a9d-48c6-f356-b182590a3715"
      },
      "source": [
        "class_names =[\"T-shirt/Top\",\"Trouser\",\"Pullover\", \"Dress\", \"Coat\", \"Sandal\", \"Shirt\", \"Sneaker\", \"Bag\", \"Ankle Boot\"]\r\n",
        "class_names"
      ],
      "execution_count": 8,
      "outputs": [
        {
          "output_type": "execute_result",
          "data": {
            "text/plain": [
              "['T-shirt/Top',\n",
              " 'Trouser',\n",
              " 'Pullover',\n",
              " 'Dress',\n",
              " 'Coat',\n",
              " 'Sandal',\n",
              " 'Shirt',\n",
              " 'Sneaker',\n",
              " 'Bag',\n",
              " 'Ankle Boot']"
            ]
          },
          "metadata": {
            "tags": []
          },
          "execution_count": 8
        }
      ]
    },
    {
      "cell_type": "markdown",
      "metadata": {
        "id": "BXywzdBV9Mtt"
      },
      "source": [
        "**Data Normalisation**\r\n",
        "\r\n",
        "We normalise the data to perform Gradient Descent on data"
      ]
    },
    {
      "cell_type": "code",
      "metadata": {
        "id": "gF3tEWlN9Yqo"
      },
      "source": [
        "X_train_n = X_train_full/255\r\n",
        "X_test_n = X_test /255"
      ],
      "execution_count": 9,
      "outputs": []
    },
    {
      "cell_type": "markdown",
      "metadata": {
        "id": "SxEACuCfE2VV"
      },
      "source": [
        ""
      ]
    },
    {
      "cell_type": "markdown",
      "metadata": {
        "id": "BnuOlQaw_9sR"
      },
      "source": [
        "Splitting the data into training and validation(for hyperparameter tuning)\r\n"
      ]
    },
    {
      "cell_type": "code",
      "metadata": {
        "id": "1XtWNBVnAGGC"
      },
      "source": [
        "X_valid, X_train = X_train_n[:5000], X_train_n[5000:]\r\n",
        "y_valid, y_train = y_train_full[:5000], y_train_full[5000:]\r\n",
        "X_test = X_test_n"
      ],
      "execution_count": 10,
      "outputs": []
    },
    {
      "cell_type": "markdown",
      "metadata": {
        "id": "_AmRi4wsEatG"
      },
      "source": [
        "random seed : Giving random values will generate the same random number and will generate the same output fr the program when run twice."
      ]
    },
    {
      "cell_type": "code",
      "metadata": {
        "id": "rtT9T_68E6JY"
      },
      "source": [
        "np.random.seed(42)\r\n",
        "tf.random.set_seed(42)"
      ],
      "execution_count": 11,
      "outputs": []
    },
    {
      "cell_type": "markdown",
      "metadata": {
        "id": "XJJYJfz0GnO3"
      },
      "source": [
        "**Model Creation**\r\n",
        "\r\n",
        "and viewing the summary of the created model"
      ]
    },
    {
      "cell_type": "code",
      "metadata": {
        "colab": {
          "base_uri": "https://localhost:8080/"
        },
        "id": "j40CAWYvFTln",
        "outputId": "f4ec08d7-8ddf-4cea-f85d-6d6a5c90f123"
      },
      "source": [
        "model = keras.models.Sequential()\r\n",
        "model.add(keras.layers.Flatten(input_shape=[28,28]))\r\n",
        "model.add(keras.layers.Dense(300, activation=\"relu\"))\r\n",
        "model.add(keras.layers.Dense(100, activation=\"relu\"))\r\n",
        "model.add(keras.layers.Dense(10, activation=\"softmax\"))\r\n",
        "model.summary()"
      ],
      "execution_count": 12,
      "outputs": [
        {
          "output_type": "stream",
          "text": [
            "Model: \"sequential\"\n",
            "_________________________________________________________________\n",
            "Layer (type)                 Output Shape              Param #   \n",
            "=================================================================\n",
            "flatten (Flatten)            (None, 784)               0         \n",
            "_________________________________________________________________\n",
            "dense (Dense)                (None, 300)               235500    \n",
            "_________________________________________________________________\n",
            "dense_1 (Dense)              (None, 100)               30100     \n",
            "_________________________________________________________________\n",
            "dense_2 (Dense)              (None, 10)                1010      \n",
            "=================================================================\n",
            "Total params: 266,610\n",
            "Trainable params: 266,610\n",
            "Non-trainable params: 0\n",
            "_________________________________________________________________\n"
          ],
          "name": "stdout"
        }
      ]
    },
    {
      "cell_type": "markdown",
      "metadata": {
        "id": "Yfmtz7XbIaKT"
      },
      "source": [
        "viewing the weights and biases\r\n"
      ]
    },
    {
      "cell_type": "code",
      "metadata": {
        "colab": {
          "base_uri": "https://localhost:8080/"
        },
        "id": "F1EBXwT3Ic4Q",
        "outputId": "dea28acd-aac3-4ada-96eb-46214878f350"
      },
      "source": [
        "weights, biases = model.layers[1].get_weights()\r\n",
        "weights\r\n",
        "weights.shape\r\n",
        "biases\r\n",
        "biases.shape"
      ],
      "execution_count": 13,
      "outputs": [
        {
          "output_type": "execute_result",
          "data": {
            "text/plain": [
              "(300,)"
            ]
          },
          "metadata": {
            "tags": []
          },
          "execution_count": 13
        }
      ]
    },
    {
      "cell_type": "markdown",
      "metadata": {
        "id": "8SBi_fzFJxXO"
      },
      "source": [
        "compiling the  model"
      ]
    },
    {
      "cell_type": "code",
      "metadata": {
        "id": "bs3BUCeBJgdr"
      },
      "source": [
        "model.compile(loss=\"sparse_categorical_crossentropy\", optimizer=\"sgd\", metrics=[\"accuracy\"])"
      ],
      "execution_count": 16,
      "outputs": []
    },
    {
      "cell_type": "code",
      "metadata": {
        "colab": {
          "base_uri": "https://localhost:8080/"
        },
        "id": "5DKOd2GkFkF7",
        "outputId": "1fed45af-f398-41e1-f9b3-9a8b2dbbfa25"
      },
      "source": [
        "model_history = model.fit(X_train, y_train, epochs=30, validation_data=(X_valid, y_valid))"
      ],
      "execution_count": 18,
      "outputs": [
        {
          "output_type": "stream",
          "text": [
            "Epoch 1/30\n",
            "1719/1719 [==============================] - 5s 3ms/step - loss: 0.7237 - accuracy: 0.7643 - val_loss: 0.5213 - val_accuracy: 0.8226\n",
            "Epoch 2/30\n",
            "1719/1719 [==============================] - 5s 3ms/step - loss: 0.4842 - accuracy: 0.8318 - val_loss: 0.4353 - val_accuracy: 0.8526\n",
            "Epoch 3/30\n",
            "1719/1719 [==============================] - 5s 3ms/step - loss: 0.4391 - accuracy: 0.8458 - val_loss: 0.5304 - val_accuracy: 0.7996\n",
            "Epoch 4/30\n",
            "1719/1719 [==============================] - 5s 3ms/step - loss: 0.4123 - accuracy: 0.8566 - val_loss: 0.3916 - val_accuracy: 0.8650\n",
            "Epoch 5/30\n",
            "1719/1719 [==============================] - 5s 3ms/step - loss: 0.3939 - accuracy: 0.8622 - val_loss: 0.3745 - val_accuracy: 0.8690\n",
            "Epoch 6/30\n",
            "1719/1719 [==============================] - 5s 3ms/step - loss: 0.3752 - accuracy: 0.8675 - val_loss: 0.3718 - val_accuracy: 0.8724\n",
            "Epoch 7/30\n",
            "1719/1719 [==============================] - 5s 3ms/step - loss: 0.3631 - accuracy: 0.8716 - val_loss: 0.3616 - val_accuracy: 0.8736\n",
            "Epoch 8/30\n",
            "1719/1719 [==============================] - 5s 3ms/step - loss: 0.3514 - accuracy: 0.8747 - val_loss: 0.3853 - val_accuracy: 0.8608\n",
            "Epoch 9/30\n",
            "1719/1719 [==============================] - 5s 3ms/step - loss: 0.3412 - accuracy: 0.8793 - val_loss: 0.3573 - val_accuracy: 0.8718\n",
            "Epoch 10/30\n",
            "1719/1719 [==============================] - 5s 3ms/step - loss: 0.3317 - accuracy: 0.8821 - val_loss: 0.3420 - val_accuracy: 0.8786\n",
            "Epoch 11/30\n",
            "1719/1719 [==============================] - 5s 3ms/step - loss: 0.3238 - accuracy: 0.8839 - val_loss: 0.3450 - val_accuracy: 0.8770\n",
            "Epoch 12/30\n",
            "1719/1719 [==============================] - 5s 3ms/step - loss: 0.3147 - accuracy: 0.8865 - val_loss: 0.3306 - val_accuracy: 0.8832\n",
            "Epoch 13/30\n",
            "1719/1719 [==============================] - 5s 3ms/step - loss: 0.3077 - accuracy: 0.8896 - val_loss: 0.3274 - val_accuracy: 0.8868\n",
            "Epoch 14/30\n",
            "1719/1719 [==============================] - 5s 3ms/step - loss: 0.3019 - accuracy: 0.8917 - val_loss: 0.3420 - val_accuracy: 0.8772\n",
            "Epoch 15/30\n",
            "1719/1719 [==============================] - 5s 3ms/step - loss: 0.2943 - accuracy: 0.8940 - val_loss: 0.3222 - val_accuracy: 0.8842\n",
            "Epoch 16/30\n",
            "1719/1719 [==============================] - 5s 3ms/step - loss: 0.2889 - accuracy: 0.8971 - val_loss: 0.3090 - val_accuracy: 0.8906\n",
            "Epoch 17/30\n",
            "1719/1719 [==============================] - 5s 3ms/step - loss: 0.2835 - accuracy: 0.8979 - val_loss: 0.3546 - val_accuracy: 0.8736\n",
            "Epoch 18/30\n",
            "1719/1719 [==============================] - 5s 3ms/step - loss: 0.2775 - accuracy: 0.9006 - val_loss: 0.3136 - val_accuracy: 0.8902\n",
            "Epoch 19/30\n",
            "1719/1719 [==============================] - 5s 3ms/step - loss: 0.2726 - accuracy: 0.9024 - val_loss: 0.3110 - val_accuracy: 0.8904\n",
            "Epoch 20/30\n",
            "1719/1719 [==============================] - 5s 3ms/step - loss: 0.2671 - accuracy: 0.9036 - val_loss: 0.3271 - val_accuracy: 0.8818\n",
            "Epoch 21/30\n",
            "1719/1719 [==============================] - 5s 3ms/step - loss: 0.2621 - accuracy: 0.9056 - val_loss: 0.3066 - val_accuracy: 0.8926\n",
            "Epoch 22/30\n",
            "1719/1719 [==============================] - 5s 3ms/step - loss: 0.2576 - accuracy: 0.9071 - val_loss: 0.2968 - val_accuracy: 0.8972\n",
            "Epoch 23/30\n",
            "1719/1719 [==============================] - 5s 3ms/step - loss: 0.2533 - accuracy: 0.9086 - val_loss: 0.2997 - val_accuracy: 0.8936\n",
            "Epoch 24/30\n",
            "1719/1719 [==============================] - 5s 3ms/step - loss: 0.2484 - accuracy: 0.9104 - val_loss: 0.3079 - val_accuracy: 0.8890\n",
            "Epoch 25/30\n",
            "1719/1719 [==============================] - 5s 3ms/step - loss: 0.2442 - accuracy: 0.9127 - val_loss: 0.2977 - val_accuracy: 0.8948\n",
            "Epoch 26/30\n",
            "1719/1719 [==============================] - 5s 3ms/step - loss: 0.2404 - accuracy: 0.9138 - val_loss: 0.3069 - val_accuracy: 0.8906\n",
            "Epoch 27/30\n",
            "1719/1719 [==============================] - 5s 3ms/step - loss: 0.2360 - accuracy: 0.9155 - val_loss: 0.3040 - val_accuracy: 0.8940\n",
            "Epoch 28/30\n",
            "1719/1719 [==============================] - 5s 3ms/step - loss: 0.2327 - accuracy: 0.9166 - val_loss: 0.3003 - val_accuracy: 0.8934\n",
            "Epoch 29/30\n",
            "1719/1719 [==============================] - 5s 3ms/step - loss: 0.2284 - accuracy: 0.9181 - val_loss: 0.3050 - val_accuracy: 0.8908\n",
            "Epoch 30/30\n",
            "1719/1719 [==============================] - 5s 3ms/step - loss: 0.2248 - accuracy: 0.9203 - val_loss: 0.3055 - val_accuracy: 0.8934\n"
          ],
          "name": "stdout"
        }
      ]
    },
    {
      "cell_type": "code",
      "metadata": {
        "colab": {
          "base_uri": "https://localhost:8080/"
        },
        "id": "M9dOHLE_HlpW",
        "outputId": "0752b1da-b65d-45fa-fad1-5da048d5f410"
      },
      "source": [
        "model_history.params\r\n",
        "model_history.history"
      ],
      "execution_count": 20,
      "outputs": [
        {
          "output_type": "execute_result",
          "data": {
            "text/plain": [
              "{'accuracy': [0.7643091082572937,\n",
              "  0.831781804561615,\n",
              "  0.8457818031311035,\n",
              "  0.8565636277198792,\n",
              "  0.8622363805770874,\n",
              "  0.8675454258918762,\n",
              "  0.8715817928314209,\n",
              "  0.8747454285621643,\n",
              "  0.8793454766273499,\n",
              "  0.8820545673370361,\n",
              "  0.8839091062545776,\n",
              "  0.8865454792976379,\n",
              "  0.8896363377571106,\n",
              "  0.8916545510292053,\n",
              "  0.8939999938011169,\n",
              "  0.8971454501152039,\n",
              "  0.8979091048240662,\n",
              "  0.9006181955337524,\n",
              "  0.902363657951355,\n",
              "  0.9035817980766296,\n",
              "  0.9055818319320679,\n",
              "  0.9071454405784607,\n",
              "  0.9085999727249146,\n",
              "  0.9103817939758301,\n",
              "  0.9126545190811157,\n",
              "  0.9137818217277527,\n",
              "  0.9155091047286987,\n",
              "  0.9166181683540344,\n",
              "  0.9180545210838318,\n",
              "  0.9203454256057739],\n",
              " 'loss': [0.7237027883529663,\n",
              "  0.484192818403244,\n",
              "  0.4390644133090973,\n",
              "  0.41230905055999756,\n",
              "  0.39393678307533264,\n",
              "  0.37517988681793213,\n",
              "  0.3631107211112976,\n",
              "  0.3514234721660614,\n",
              "  0.34116992354393005,\n",
              "  0.3316737115383148,\n",
              "  0.32377755641937256,\n",
              "  0.31472039222717285,\n",
              "  0.3077256381511688,\n",
              "  0.30191129446029663,\n",
              "  0.29433774948120117,\n",
              "  0.2889043986797333,\n",
              "  0.2835314869880676,\n",
              "  0.2775433659553528,\n",
              "  0.27261847257614136,\n",
              "  0.2671469748020172,\n",
              "  0.2620714008808136,\n",
              "  0.25755026936531067,\n",
              "  0.2533413767814636,\n",
              "  0.2483604997396469,\n",
              "  0.24415016174316406,\n",
              "  0.24039502441883087,\n",
              "  0.2360423058271408,\n",
              "  0.23270441591739655,\n",
              "  0.22842200100421906,\n",
              "  0.2248239517211914],\n",
              " 'val_accuracy': [0.8226000070571899,\n",
              "  0.8525999784469604,\n",
              "  0.7996000051498413,\n",
              "  0.8650000095367432,\n",
              "  0.8690000176429749,\n",
              "  0.8723999857902527,\n",
              "  0.8736000061035156,\n",
              "  0.86080002784729,\n",
              "  0.8718000054359436,\n",
              "  0.878600001335144,\n",
              "  0.8769999742507935,\n",
              "  0.8831999897956848,\n",
              "  0.8867999911308289,\n",
              "  0.8772000074386597,\n",
              "  0.8841999769210815,\n",
              "  0.8906000256538391,\n",
              "  0.8736000061035156,\n",
              "  0.8902000188827515,\n",
              "  0.8903999924659729,\n",
              "  0.8817999958992004,\n",
              "  0.8925999999046326,\n",
              "  0.8971999883651733,\n",
              "  0.8935999870300293,\n",
              "  0.8889999985694885,\n",
              "  0.8948000073432922,\n",
              "  0.8906000256538391,\n",
              "  0.8939999938011169,\n",
              "  0.8934000134468079,\n",
              "  0.8907999992370605,\n",
              "  0.8934000134468079],\n",
              " 'val_loss': [0.5213178396224976,\n",
              "  0.4353218674659729,\n",
              "  0.5304244756698608,\n",
              "  0.3915894627571106,\n",
              "  0.3745119273662567,\n",
              "  0.37179672718048096,\n",
              "  0.3616027534008026,\n",
              "  0.3852786719799042,\n",
              "  0.35726746916770935,\n",
              "  0.34195464849472046,\n",
              "  0.3449617326259613,\n",
              "  0.3306499421596527,\n",
              "  0.3274191915988922,\n",
              "  0.3420412838459015,\n",
              "  0.3221556842327118,\n",
              "  0.30902132391929626,\n",
              "  0.35460710525512695,\n",
              "  0.31355106830596924,\n",
              "  0.31097424030303955,\n",
              "  0.3271231949329376,\n",
              "  0.30661818385124207,\n",
              "  0.2968292832374573,\n",
              "  0.29974833130836487,\n",
              "  0.30792519450187683,\n",
              "  0.29767459630966187,\n",
              "  0.3068595826625824,\n",
              "  0.3039662539958954,\n",
              "  0.30032145977020264,\n",
              "  0.30495205521583557,\n",
              "  0.3054735064506531]}"
            ]
          },
          "metadata": {
            "tags": []
          },
          "execution_count": 20
        }
      ]
    },
    {
      "cell_type": "markdown",
      "metadata": {
        "id": "UF5vpkAXID1y"
      },
      "source": [
        "To visualize how our loss and accuracy is changing\r\n",
        "\r\n"
      ]
    },
    {
      "cell_type": "code",
      "metadata": {
        "colab": {
          "base_uri": "https://localhost:8080/",
          "height": 341
        },
        "id": "4WIuS2sYH1bs",
        "outputId": "badce947-be35-4c70-f6cc-3353b664812c"
      },
      "source": [
        "pd.DataFrame(model_history.history).plot(figsize=(8,5))\r\n",
        "plt.grid(True)\r\n",
        "plt.gca().set_ylim(0, 1)\r\n",
        "plt.show"
      ],
      "execution_count": 21,
      "outputs": [
        {
          "output_type": "execute_result",
          "data": {
            "text/plain": [
              "<function matplotlib.pyplot.show>"
            ]
          },
          "metadata": {
            "tags": []
          },
          "execution_count": 21
        },
        {
          "output_type": "display_data",
          "data": {
            "image/png": "[encoded data removed]",
            "text/plain": [
              "<Figure size 576x360 with 1 Axes>"
            ]
          },
          "metadata": {
            "tags": [],
            "needs_background": "light"
          }
        }
      ]
    },
    {
      "cell_type": "markdown",
      "metadata": {
        "id": "n22_5hgSI4HJ"
      },
      "source": [
        "**Evaluate Model Performance**\r\n",
        "\r\n"
      ]
    },
    {
      "cell_type": "code",
      "metadata": {
        "colab": {
          "base_uri": "https://localhost:8080/"
        },
        "id": "RW43GXmfI80-",
        "outputId": "32f5d546-96c7-4a50-e4c0-306a1a1a596c"
      },
      "source": [
        "model.evaluate(X_test, y_test)"
      ],
      "execution_count": 22,
      "outputs": [
        {
          "output_type": "stream",
          "text": [
            "313/313 [==============================] - 0s 1ms/step - loss: 0.3382 - accuracy: 0.8822\n"
          ],
          "name": "stdout"
        },
        {
          "output_type": "execute_result",
          "data": {
            "text/plain": [
              "[0.3381877839565277, 0.8822000026702881]"
            ]
          },
          "metadata": {
            "tags": []
          },
          "execution_count": 22
        }
      ]
    },
    {
      "cell_type": "markdown",
      "metadata": {
        "id": "qh1YbF6yKHnf"
      },
      "source": [
        "The above code will display the accuracy and loss function...\r\n"
      ]
    },
    {
      "cell_type": "code",
      "metadata": {
        "colab": {
          "base_uri": "https://localhost:8080/"
        },
        "id": "JA68qcuIKNmk",
        "outputId": "e4d17cb0-fd38-4987-94c6-4926d1329f18"
      },
      "source": [
        "X_new = X_test[:3]\r\n",
        "y_pred = model.predict_classes(X_new)\r\n",
        "y_pred"
      ],
      "execution_count": 24,
      "outputs": [
        {
          "output_type": "execute_result",
          "data": {
            "text/plain": [
              "array([9, 2, 1])"
            ]
          },
          "metadata": {
            "tags": []
          },
          "execution_count": 24
        }
      ]
    },
    {
      "cell_type": "code",
      "metadata": {
        "colab": {
          "base_uri": "https://localhost:8080/"
        },
        "id": "u1btPRtpK4Dg",
        "outputId": "fc44903a-8917-4518-a5c4-9fd121f042ec"
      },
      "source": [
        "np.array(class_names)[y_pred]"
      ],
      "execution_count": 26,
      "outputs": [
        {
          "output_type": "execute_result",
          "data": {
            "text/plain": [
              "array(['Ankle Boot', 'Pullover', 'Trouser'], dtype='<U11')"
            ]
          },
          "metadata": {
            "tags": []
          },
          "execution_count": 26
        }
      ]
    },
    {
      "cell_type": "code",
      "metadata": {
        "colab": {
          "base_uri": "https://localhost:8080/",
          "height": 282
        },
        "id": "rvKR69wULNyt",
        "outputId": "936d0938-c925-4fec-e083-00eb3f1da8a3"
      },
      "source": [
        "plt.imshow(X_new[0])"
      ],
      "execution_count": 29,
      "outputs": [
        {
          "output_type": "execute_result",
          "data": {
            "text/plain": [
              "<matplotlib.image.AxesImage at 0x7fc18b72ee48>"
            ]
          },
          "metadata": {
            "tags": []
          },
          "execution_count": 29
        },
        {
          "output_type": "display_data",
          "data": {
            "image/png": "[encoded data removed]",
            "text/plain": [
              "<Figure size 432x288 with 1 Axes>"
            ]
          },
          "metadata": {
            "tags": [],
            "needs_background": "light"
          }
        }
      ]
    },
    {
      "cell_type": "code",
      "metadata": {
        "colab": {
          "base_uri": "https://localhost:8080/",
          "height": 282
        },
        "id": "SWqzzJRaLb1T",
        "outputId": "7790a39b-d06f-4cbe-a54f-aed3fca14997"
      },
      "source": [
        "plt.imshow(X_new[1])"
      ],
      "execution_count": 30,
      "outputs": [
        {
          "output_type": "execute_result",
          "data": {
            "text/plain": [
              "<matplotlib.image.AxesImage at 0x7fc18b68bef0>"
            ]
          },
          "metadata": {
            "tags": []
          },
          "execution_count": 30
        },
        {
          "output_type": "display_data",
          "data": {
            "image/png": "[encoded data removed]",
            "text/plain": [
              "<Figure size 432x288 with 1 Axes>"
            ]
          },
          "metadata": {
            "tags": [],
            "needs_background": "light"
          }
        }
      ]
    },
    {
      "cell_type": "code",
      "metadata": {
        "colab": {
          "base_uri": "https://localhost:8080/",
          "height": 282
        },
        "id": "e6OC85E6Lpel",
        "outputId": "a6c42e05-f3d8-43ca-debc-51479ba1597a"
      },
      "source": [
        "plt.imshow(X_new[2])"
      ],
      "execution_count": 31,
      "outputs": [
        {
          "output_type": "execute_result",
          "data": {
            "text/plain": [
              "<matplotlib.image.AxesImage at 0x7fc18b665f98>"
            ]
          },
          "metadata": {
            "tags": []
          },
          "execution_count": 31
        },
        {
          "output_type": "display_data",
          "data": {
            "image/png": "[encoded data removed]",
            "text/plain": [
              "<Figure size 432x288 with 1 Axes>"
            ]
          },
          "metadata": {
            "tags": [],
            "needs_background": "light"
          }
        }
      ]
    }
  ]
}