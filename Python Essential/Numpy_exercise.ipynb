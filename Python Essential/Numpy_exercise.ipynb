{
  "nbformat": 4,
  "nbformat_minor": 0,
  "metadata": {
    "colab": {
      "name": "Numpy exercise.ipynb",
      "provenance": [],
      "collapsed_sections": []
    },
    "kernelspec": {
      "name": "python3",
      "display_name": "Python 3"
    }
  },
  "cells": [
    {
      "cell_type": "markdown",
      "metadata": {
        "id": "Z0TmRtHrt1Kt"
      },
      "source": [
        "1. Write a Python code to import NumPy."
      ]
    },
    {
      "cell_type": "code",
      "metadata": {
        "id": "iQZV4Z1Kt0Tv"
      },
      "source": [
        "import numpy as np"
      ],
      "execution_count": 2,
      "outputs": []
    },
    {
      "cell_type": "markdown",
      "metadata": {
        "id": "0dAa_5Y2t5xJ"
      },
      "source": [
        "2. Write a Python program to create 3x3 matrix with values ranging from 5 to 13."
      ]
    },
    {
      "cell_type": "code",
      "metadata": {
        "colab": {
          "base_uri": "https://localhost:8080/"
        },
        "id": "UZKKfk4Ft-0C",
        "outputId": "4c07f5a0-8980-4e7b-f4aa-37f369427676"
      },
      "source": [
        "a = np.arange(5,14)\r\n",
        "a"
      ],
      "execution_count": 7,
      "outputs": [
        {
          "output_type": "execute_result",
          "data": {
            "text/plain": [
              "array([ 5,  6,  7,  8,  9, 10, 11, 12, 13])"
            ]
          },
          "metadata": {
            "tags": []
          },
          "execution_count": 7
        }
      ]
    },
    {
      "cell_type": "markdown",
      "metadata": {
        "id": "ZtKjfSDsukts"
      },
      "source": [
        "3. Write a Python program to create a null vector of size 10 and update sixth value to 11."
      ]
    },
    {
      "cell_type": "code",
      "metadata": {
        "colab": {
          "base_uri": "https://localhost:8080/"
        },
        "id": "EaeOajsRuvDW",
        "outputId": "5012fdf0-d0cd-40f2-9568-59c28f579496"
      },
      "source": [
        "b = np.zeros(10)\r\n",
        "b[5] = 11\r\n",
        "print(b)"
      ],
      "execution_count": 15,
      "outputs": [
        {
          "output_type": "stream",
          "text": [
            "[ 0.  0.  0.  0.  0. 11.  0.  0.  0.  0.]\n"
          ],
          "name": "stdout"
        }
      ]
    },
    {
      "cell_type": "markdown",
      "metadata": {
        "id": "2rCrGRY8veZX"
      },
      "source": [
        "4. Write a Python program to create a array with values ranging from 12 to 38."
      ]
    },
    {
      "cell_type": "code",
      "metadata": {
        "colab": {
          "base_uri": "https://localhost:8080/"
        },
        "id": "c-H7G-_kvlbV",
        "outputId": "81a262d1-2a0c-4585-96f1-ff5ce1e62ed3"
      },
      "source": [
        "c = np.arange(12,38).reshape(13,2)\r\n",
        "print(c)"
      ],
      "execution_count": 20,
      "outputs": [
        {
          "output_type": "stream",
          "text": [
            "[[12 13]\n",
            " [14 15]\n",
            " [16 17]\n",
            " [18 19]\n",
            " [20 21]\n",
            " [22 23]\n",
            " [24 25]\n",
            " [26 27]\n",
            " [28 29]\n",
            " [30 31]\n",
            " [32 33]\n",
            " [34 35]\n",
            " [36 37]]\n"
          ],
          "name": "stdout"
        }
      ]
    },
    {
      "cell_type": "markdown",
      "metadata": {
        "id": "VrTQjHQExUKl"
      },
      "source": [
        "6. Write a Python program to reverse an array so that first element becomes last."
      ]
    },
    {
      "cell_type": "code",
      "metadata": {
        "colab": {
          "base_uri": "https://localhost:8080/"
        },
        "id": "DWY-mDTTxX0W",
        "outputId": "98914669-3502-463e-c840-619d83425c51"
      },
      "source": [
        "Reverse = np.flip(a)\r\n",
        "print(Reverse)"
      ],
      "execution_count": 22,
      "outputs": [
        {
          "output_type": "stream",
          "text": [
            "[13 12 11 10  9  8  7  6  5]\n"
          ],
          "name": "stdout"
        }
      ]
    },
    {
      "cell_type": "markdown",
      "metadata": {
        "id": "egCBu-XxyBPy"
      },
      "source": [
        "7. Write a Python program to an array converted to a float type."
      ]
    },
    {
      "cell_type": "code",
      "metadata": {
        "colab": {
          "base_uri": "https://localhost:8080/"
        },
        "id": "n_R0Fj2fyE74",
        "outputId": "71029464-8693-4680-c5f3-3d10bde5702b"
      },
      "source": [
        "convert = a.astype(\"Float64\")\r\n",
        "print(convert)"
      ],
      "execution_count": 24,
      "outputs": [
        {
          "output_type": "stream",
          "text": [
            "[ 5.  6.  7.  8.  9. 10. 11. 12. 13.]\n"
          ],
          "name": "stdout"
        },
        {
          "output_type": "stream",
          "text": [
            "/usr/local/lib/python3.6/dist-packages/ipykernel_launcher.py:1: DeprecationWarning: Numeric-style type codes are deprecated and will result in an error in the future.\n",
            "  \"\"\"Entry point for launching an IPython kernel.\n"
          ],
          "name": "stderr"
        }
      ]
    },
    {
      "cell_type": "markdown",
      "metadata": {
        "id": "3unzUZZDyoRS"
      },
      "source": [
        "8. Write a Python program to create a 2d array with 1 on the border and 0 inside."
      ]
    },
    {
      "cell_type": "code",
      "metadata": {
        "colab": {
          "base_uri": "https://localhost:8080/"
        },
        "id": "SA1NycseyxyF",
        "outputId": "77e5e1c2-59ef-432d-d9d7-a1430391819e"
      },
      "source": [
        " arr = np.array([1, 1, 1, 1,\r\n",
        "                1, 0, 0, 1,\r\n",
        "                1, 0, 0, 1,\r\n",
        "                1, 1, 1, 1]).reshape(4,4)\r\n",
        " print(arr)\r\n"
      ],
      "execution_count": 35,
      "outputs": [
        {
          "output_type": "stream",
          "text": [
            "[[1 1 1 1]\n",
            " [1 0 0 1]\n",
            " [1 0 0 1]\n",
            " [1 1 1 1]]\n",
            "1\n"
          ],
          "name": "stdout"
        }
      ]
    },
    {
      "cell_type": "markdown",
      "metadata": {
        "id": "89mYlh7v0G0e"
      },
      "source": [
        "9. Write a Python program to create a 8x8 matrix and fill it with a checkerboard pattern."
      ]
    },
    {
      "cell_type": "code",
      "metadata": {
        "colab": {
          "base_uri": "https://localhost:8080/"
        },
        "id": "FEqDiAbH0Mv3",
        "outputId": "158d8e94-538e-4d9e-acd9-113e41e2cc2b"
      },
      "source": [
        "new_arr = np.zeros(64).astype('int32')\r\n",
        "flag=1\r\n",
        "while(flag<64):\r\n",
        "  new_arr[flag]=1\r\n",
        "  flag+=2\r\n",
        "print(new_arr.reshape(8,8))"
      ],
      "execution_count": 46,
      "outputs": [
        {
          "output_type": "stream",
          "text": [
            "[[0 1 0 1 0 1 0 1]\n",
            " [0 1 0 1 0 1 0 1]\n",
            " [0 1 0 1 0 1 0 1]\n",
            " [0 1 0 1 0 1 0 1]\n",
            " [0 1 0 1 0 1 0 1]\n",
            " [0 1 0 1 0 1 0 1]\n",
            " [0 1 0 1 0 1 0 1]\n",
            " [0 1 0 1 0 1 0 1]]\n"
          ],
          "name": "stdout"
        }
      ]
    },
    {
      "cell_type": "markdown",
      "metadata": {
        "id": "DXyP7nWv2r7n"
      },
      "source": [
        "10. Write a Python program to convert a list and tuple into arrays."
      ]
    },
    {
      "cell_type": "code",
      "metadata": {
        "colab": {
          "base_uri": "https://localhost:8080/"
        },
        "id": "eQZcg1TW294v",
        "outputId": "055a2bca-65f0-4ec1-bd86-3e351481b9c4"
      },
      "source": [
        "my_list = [1, 2, 3, 4, 5, 6, 7, 8]\r\n",
        "print(\"List to array: \")\r\n",
        "print(np.asarray(my_list))\r\n",
        "my_tuple = ([8, 4, 6], [1, 2, 3])\r\n",
        "print(\"Tuple to array: \")\r\n",
        "print(np.asarray(my_tuple))"
      ],
      "execution_count": 47,
      "outputs": [
        {
          "output_type": "stream",
          "text": [
            "List to array: \n",
            "[1 2 3 4 5 6 7 8]\n",
            "Tuple to array: \n",
            "[[8 4 6]\n",
            " [1 2 3]]\n"
          ],
          "name": "stdout"
        }
      ]
    },
    {
      "cell_type": "markdown",
      "metadata": {
        "id": "hf1cX2MC3Cb8"
      },
      "source": [
        "11. Write a Python program to append values to the end of an array."
      ]
    },
    {
      "cell_type": "code",
      "metadata": {
        "colab": {
          "base_uri": "https://localhost:8080/"
        },
        "id": "HeQiAwsg3IeD",
        "outputId": "ed69aeac-6acd-49fd-de04-44796e7c0bbe"
      },
      "source": [
        "x = [10, 20, 30]\r\n",
        "\r\n",
        "x = np.append(x, [[40, 50, 60], [70, 80, 90]])\r\n",
        "print(x.reshape(3,3))"
      ],
      "execution_count": 50,
      "outputs": [
        {
          "output_type": "stream",
          "text": [
            "[[10 20 30]\n",
            " [40 50 60]\n",
            " [70 80 90]]\n"
          ],
          "name": "stdout"
        }
      ]
    },
    {
      "cell_type": "markdown",
      "metadata": {
        "id": "fo0lq0f43dSM"
      },
      "source": [
        "12. Write a Python program to create an empty and a full array."
      ]
    },
    {
      "cell_type": "code",
      "metadata": {
        "colab": {
          "base_uri": "https://localhost:8080/"
        },
        "id": "6TFYPh803160",
        "outputId": "efde83a8-c3c5-47f4-ca09-74c40c571592"
      },
      "source": [
        "emp = np.empty((3,3))\r\n",
        "full = np.full((3,3), 2)\r\n",
        "print(emp)\r\n",
        "print(full)"
      ],
      "execution_count": 55,
      "outputs": [
        {
          "output_type": "stream",
          "text": [
            "[[ 5.  6.  7.]\n",
            " [ 8.  9. 10.]\n",
            " [11. 12. 13.]]\n",
            "[[2 2 2]\n",
            " [2 2 2]\n",
            " [2 2 2]]\n"
          ],
          "name": "stdout"
        }
      ]
    },
    {
      "cell_type": "markdown",
      "metadata": {
        "id": "65q0MCzg4mvB"
      },
      "source": [
        "13. Write a Python program to convert the values of Centigrade degrees into Fahrenheit degrees. Centigrade values are stored into a NumPy array."
      ]
    },
    {
      "cell_type": "code",
      "metadata": {
        "colab": {
          "base_uri": "https://localhost:8080/"
        },
        "id": "xH0k-70G4qc4",
        "outputId": "4fe07ba9-bebe-4dcd-aced-1d207a2ff7af"
      },
      "source": [
        "cent = np.array([38, 39, 40])\r\n",
        "farh = np.zeros((3))\r\n",
        "for i in range(cent.size):\r\n",
        "  farh[i] = ((9*cent[i])/5) + 32\r\n",
        "print(farh) "
      ],
      "execution_count": 70,
      "outputs": [
        {
          "output_type": "stream",
          "text": [
            "[100.4 102.2 104. ]\n"
          ],
          "name": "stdout"
        }
      ]
    },
    {
      "cell_type": "markdown",
      "metadata": {
        "id": "lIlmCaQf8fO2"
      },
      "source": [
        "14. Write a Python program to find the real and imaginary parts of an array of complex numbers."
      ]
    },
    {
      "cell_type": "code",
      "metadata": {
        "colab": {
          "base_uri": "https://localhost:8080/"
        },
        "id": "NRnq7dsV6UsK",
        "outputId": "e612dabd-7a22-441a-cf75-c0d3a77154e3"
      },
      "source": [
        "complex_num = np.array([-1 + 9j, 2 - 77j, \r\n",
        "                        31 - 25j, 40 - 311j, \r\n",
        "                        72 + 11j]) \r\n",
        "  \r\n",
        "\r\n",
        "for i in range(len(complex_num)): \r\n",
        "      print(\"{}. complex number is {}\".format(i + 1, complex_num[i])) \r\n",
        "      print (\"The real part is: {}\".format(complex_num[i].real)) \r\n",
        "      print (\"The imaginary part is: {}\\n\".format(complex_num[i].imag)) "
      ],
      "execution_count": 72,
      "outputs": [
        {
          "output_type": "stream",
          "text": [
            "1. complex number is (-1+9j)\n",
            "The real part is: -1.0\n",
            "The imaginary part is: 9.0\n",
            "\n",
            "2. complex number is (2-77j)\n",
            "The real part is: 2.0\n",
            "The imaginary part is: -77.0\n",
            "\n",
            "3. complex number is (31-25j)\n",
            "The real part is: 31.0\n",
            "The imaginary part is: -25.0\n",
            "\n",
            "4. complex number is (40-311j)\n",
            "The real part is: 40.0\n",
            "The imaginary part is: -311.0\n",
            "\n",
            "5. complex number is (72+11j)\n",
            "The real part is: 72.0\n",
            "The imaginary part is: 11.0\n",
            "\n"
          ],
          "name": "stdout"
        }
      ]
    },
    {
      "cell_type": "markdown",
      "metadata": {
        "id": "pdl8_vCD9d_j"
      },
      "source": [
        "15. Write a Python program to test whether each element of a 1-D array is also present in a second array."
      ]
    },
    {
      "cell_type": "code",
      "metadata": {
        "colab": {
          "base_uri": "https://localhost:8080/"
        },
        "id": "dzP75Tjx9ya3",
        "outputId": "897b1ea0-f2e0-442d-ae0b-ad335955e116"
      },
      "source": [
        "first = np.array([1,2,3,4,5])\r\n",
        "second = np.array([5,9,3,2,1])\r\n",
        "flag=0\r\n",
        "for i in range(second.size):\r\n",
        "  for j in range(first.size):\r\n",
        "    if(second[i]==first[j]):\r\n",
        "      flag+=1\r\n",
        "      break\r\n",
        "if(flag==second.size):\r\n",
        "  print(\"Yes All element of 2nd present in 1st\")\r\n",
        "else:\r\n",
        "  print(\"No all element of 1st not in 2nd\")"
      ],
      "execution_count": 76,
      "outputs": [
        {
          "output_type": "stream",
          "text": [
            "No all element of 1st not in 2nd\n"
          ],
          "name": "stdout"
        }
      ]
    },
    {
      "cell_type": "markdown",
      "metadata": {
        "id": "mrdV8OWx_lhp"
      },
      "source": [
        "16. Write a Python program to find common values between two arrays."
      ]
    },
    {
      "cell_type": "code",
      "metadata": {
        "colab": {
          "base_uri": "https://localhost:8080/"
        },
        "id": "mKg1ZNLe_qqi",
        "outputId": "4c6ffe23-e0b1-440f-8c49-33209e8d5979"
      },
      "source": [
        "first = np.array([1,2,3,4,5])\r\n",
        "second = np.array([5,9,3,2,1])\r\n",
        "flag=[]\r\n",
        "for i in range(second.size):\r\n",
        "  for j in range(first.size):\r\n",
        "    if(second[i]==first[j]):\r\n",
        "      flag.append(second[i])\r\n",
        "      break\r\n",
        "print(flag)"
      ],
      "execution_count": 78,
      "outputs": [
        {
          "output_type": "stream",
          "text": [
            "[5, 3, 2, 1]\n"
          ],
          "name": "stdout"
        }
      ]
    },
    {
      "cell_type": "markdown",
      "metadata": {
        "id": "B1C66hDUAAQT"
      },
      "source": [
        "17. Write a Python program to get the unique elements of an array."
      ]
    },
    {
      "cell_type": "code",
      "metadata": {
        "colab": {
          "base_uri": "https://localhost:8080/"
        },
        "id": "i-DOyJfAAIG3",
        "outputId": "48b74501-8d13-41b5-cf94-54347aed1f5f"
      },
      "source": [
        "first = np.array([1,2,3,4,5,5,9,3,2,1])\r\n",
        "freq = {}\r\n",
        "flag = 0\r\n",
        "for i in range(first.size):\r\n",
        "  for j in range(first.size):\r\n",
        "    if(first[i]==first[j]):\r\n",
        "      flag += 1\r\n",
        "  freq[first[i]] = flag\r\n",
        "  flag=0\r\n",
        "\r\n",
        "for m in freq:\r\n",
        "  if(freq[m]==1):\r\n",
        "    print(m)\r\n",
        "\r\n",
        "  \r\n",
        "print(freq)"
      ],
      "execution_count": 89,
      "outputs": [
        {
          "output_type": "stream",
          "text": [
            "4\n",
            "9\n",
            "{1: 2, 2: 2, 3: 2, 4: 1, 5: 2, 9: 1}\n"
          ],
          "name": "stdout"
        }
      ]
    },
    {
      "cell_type": "markdown",
      "metadata": {
        "id": "EX2GZ4yoDKJX"
      },
      "source": [
        "18. Write a Python program to test if all elements in an array evaluate to True."
      ]
    },
    {
      "cell_type": "code",
      "metadata": {
        "colab": {
          "base_uri": "https://localhost:8080/"
        },
        "id": "E7g2KqVKDNUH",
        "outputId": "1f0e6aab-f49b-416a-a33b-883bf7b99bc3"
      },
      "source": [
        "bool1 = np.array([True, True])\r\n",
        "flag = 0\r\n",
        "for i in range(bool1.size):\r\n",
        "  if(bool1[i]==True):\r\n",
        "    flag+=1\r\n",
        "if(flag==bool1.size):\r\n",
        "  print(\"yes All Elements are true\")\r\n",
        "print(bool1)"
      ],
      "execution_count": 7,
      "outputs": [
        {
          "output_type": "stream",
          "text": [
            "yes All Elements are true\n",
            "[ True  True]\n"
          ],
          "name": "stdout"
        }
      ]
    },
    {
      "cell_type": "markdown",
      "metadata": {
        "id": "n8J1hAz0clMP"
      },
      "source": [
        "19. Write a Python program to test whether any array element along a given axis evaluates to True."
      ]
    },
    {
      "cell_type": "code",
      "metadata": {
        "colab": {
          "base_uri": "https://localhost:8080/"
        },
        "id": "MomOd4Qhcv53",
        "outputId": "94563136-e5e4-4503-a025-f478de8361d6"
      },
      "source": [
        "a = np.zeros((4,4)).astype('int32')\r\n",
        "\r\n",
        "a[2][3] = True\r\n",
        "row = int(input(\"Enter the row position to be searched \"))\r\n",
        "column = int(input(\"Enter the column position to be searched \"))\r\n",
        "if(a[row][column]==True):\r\n",
        "  print(\"Yes its a true\")\r\n",
        "else:\r\n",
        "  print(\"No its a False\")\r\n",
        "print(a)"
      ],
      "execution_count": 28,
      "outputs": [
        {
          "output_type": "stream",
          "text": [
            "Enter the row position to be searched 2\n",
            "Enter the column position to be searched 3\n",
            "Yes its a true\n",
            "[[0 0 0 0]\n",
            " [0 0 0 0]\n",
            " [0 0 0 1]\n",
            " [0 0 0 0]]\n"
          ],
          "name": "stdout"
        }
      ]
    },
    {
      "cell_type": "markdown",
      "metadata": {
        "id": "1eVo15zLe7c7"
      },
      "source": [
        "20. Write a Python program to repeat elements of an array."
      ]
    },
    {
      "cell_type": "code",
      "metadata": {
        "colab": {
          "base_uri": "https://localhost:8080/"
        },
        "id": "pKdw39_VgF5g",
        "outputId": "07c0ec86-b5aa-484e-d75f-56705666fc35"
      },
      "source": [
        "a = np.array([1,2,3,4,5])\r\n",
        "b = np.array([-5,-4,-3,-2,-1,0])\r\n",
        "b = np.append(b, a)\r\n",
        "print(b)"
      ],
      "execution_count": 22,
      "outputs": [
        {
          "output_type": "stream",
          "text": [
            "[-5 -4 -3 -2 -1  0  1  2  3  4  5  1  2  3  4  5  1  2  3  4  5]\n"
          ],
          "name": "stdout"
        }
      ]
    },
    {
      "cell_type": "markdown",
      "metadata": {
        "id": "snVWzXoNhgD2"
      },
      "source": [
        "21. Write a Python program to find the indices of the maximum and minimum values along the given axis of an array."
      ]
    },
    {
      "cell_type": "code",
      "metadata": {
        "colab": {
          "base_uri": "https://localhost:8080/"
        },
        "id": "63Ipqn3UhqFI",
        "outputId": "a9214575-114b-4c78-acfc-071160aa631f"
      },
      "source": [
        "a = np.array([33,54,31,67,98,42,64,21,38]).reshape(3,3)\r\n",
        "max = np.max(a)\r\n",
        "min = np.min(a)\r\n",
        "print(\"Max element is \", max)\r\n",
        "print(\"Min element is \", min)"
      ],
      "execution_count": 36,
      "outputs": [
        {
          "output_type": "stream",
          "text": [
            "Max element is  98\n",
            "Min element is  21\n"
          ],
          "name": "stdout"
        }
      ]
    },
    {
      "cell_type": "markdown",
      "metadata": {
        "id": "FMW8rP6j7RDD"
      },
      "source": [
        "22. Write a Python program compare two arrays using numpy."
      ]
    },
    {
      "cell_type": "code",
      "metadata": {
        "colab": {
          "base_uri": "https://localhost:8080/"
        },
        "id": "aJc4Cmbn7SHY",
        "outputId": "3e18b8b4-fdf4-4284-e853-b770b0cef293"
      },
      "source": [
        "an_array = np.array([[1, 2], [3, 4]]) \r\n",
        "another_array = np.array([[1, 2], [3, 4]]) \r\n",
        "print(another_array)\r\n",
        "  \r\n",
        "comparison = an_array == another_array \r\n",
        "equal_arrays = comparison.all() \r\n",
        "  \r\n",
        "print(equal_arrays) "
      ],
      "execution_count": 7,
      "outputs": [
        {
          "output_type": "stream",
          "text": [
            "[[1 2]\n",
            " [3 4]]\n",
            "True\n"
          ],
          "name": "stdout"
        }
      ]
    },
    {
      "cell_type": "markdown",
      "metadata": {
        "id": "9ojZWRWl8EtZ"
      },
      "source": [
        "23. Write a Python program to save a NumPy array to a text file."
      ]
    },
    {
      "cell_type": "code",
      "metadata": {
        "colab": {
          "base_uri": "https://localhost:8080/"
        },
        "id": "_3IN_BEP8I6P",
        "outputId": "1093d7a1-9e1e-4f71-c68e-9d3776c00687"
      },
      "source": [
        "an_array = np.array([1,2,3,4,5,6])\r\n",
        "f = open(\"demofile1.txt\", \"w\")\r\n",
        "f.write(str(an_array))\r\n",
        "f.close()\r\n",
        "f = open(\"demofile1.txt\", \"r\")\r\n",
        "print(f.read())"
      ],
      "execution_count": 14,
      "outputs": [
        {
          "output_type": "stream",
          "text": [
            "[1 2 3 4 5 6]\n"
          ],
          "name": "stdout"
        }
      ]
    },
    {
      "cell_type": "code",
      "metadata": {
        "id": "0u0K1jub9HzA"
      },
      "source": [
        "#to delete a file with python\r\n",
        "#import os\r\n",
        "#os.remove(\"demofile1.txt\")"
      ],
      "execution_count": 13,
      "outputs": []
    },
    {
      "cell_type": "markdown",
      "metadata": {
        "id": "lIK4FZDh9Sfv"
      },
      "source": [
        "24. Write a Python program to create a contiguous flattened array."
      ]
    },
    {
      "cell_type": "code",
      "metadata": {
        "colab": {
          "base_uri": "https://localhost:8080/"
        },
        "id": "57MZ0qgv98Xx",
        "outputId": "79f00e70-8194-440c-d9bd-47db279d3d0d"
      },
      "source": [
        "a = np.arange(1,28).reshape(3,3,3)\r\n",
        "row_major_flat = np.ravel(a, order='C')\r\n",
        "column_major_flat = np.ravel(a, order='F')\r\n",
        "print(a_new)\r\n",
        "print(column_major_flat)"
      ],
      "execution_count": 21,
      "outputs": [
        {
          "output_type": "stream",
          "text": [
            "[ 1  2  3  4  5  6  7  8  9 10 11 12 13 14 15 16 17 18 19 20 21 22 23 24\n",
            " 25 26 27]\n",
            "[ 1 10 19  4 13 22  7 16 25  2 11 20  5 14 23  8 17 26  3 12 21  6 15 24\n",
            "  9 18 27]\n"
          ],
          "name": "stdout"
        }
      ]
    },
    {
      "cell_type": "markdown",
      "metadata": {
        "id": "JVeRCKqN-w1Q"
      },
      "source": [
        "25.Write a program to perform addition,minimum and maximum values from a 3D array."
      ]
    },
    {
      "cell_type": "code",
      "metadata": {
        "colab": {
          "base_uri": "https://localhost:8080/"
        },
        "id": "pe-tISb8-1Ie",
        "outputId": "2a74ac16-9eef-4699-834e-fcab5a734e57"
      },
      "source": [
        "a = np.arange(1,28).reshape(3,3,3)\r\n",
        "in_arr2 = np.arange(28,55).reshape(3,3,3)\r\n",
        "min = np.min(a)\r\n",
        "max = np.max(a)\r\n",
        "add = np.add(a, in_arr2)\r\n",
        "print(\"Min is {}\".format(min))\r\n",
        "print(\"Max is {}\".format(max))\r\n",
        "print(\"1st Array is \\n {}\".format(a))\r\n",
        "print(\"2nd Array is  \\n {}\".format(in_arr2))\r\n",
        "print(\"Added array is \\n {} \".format(add))"
      ],
      "execution_count": 35,
      "outputs": [
        {
          "output_type": "stream",
          "text": [
            "Min is 1\n",
            "Max is 27\n",
            "1st Array is \n",
            " [[[ 1  2  3]\n",
            "  [ 4  5  6]\n",
            "  [ 7  8  9]]\n",
            "\n",
            " [[10 11 12]\n",
            "  [13 14 15]\n",
            "  [16 17 18]]\n",
            "\n",
            " [[19 20 21]\n",
            "  [22 23 24]\n",
            "  [25 26 27]]]\n",
            "2nd Array is  \n",
            " [[[28 29 30]\n",
            "  [31 32 33]\n",
            "  [34 35 36]]\n",
            "\n",
            " [[37 38 39]\n",
            "  [40 41 42]\n",
            "  [43 44 45]]\n",
            "\n",
            " [[46 47 48]\n",
            "  [49 50 51]\n",
            "  [52 53 54]]]\n",
            "Added array is \n",
            " [[[29 31 33]\n",
            "  [35 37 39]\n",
            "  [41 43 45]]\n",
            "\n",
            " [[47 49 51]\n",
            "  [53 55 57]\n",
            "  [59 61 63]]\n",
            "\n",
            " [[65 67 69]\n",
            "  [71 73 75]\n",
            "  [77 79 81]]] \n"
          ],
          "name": "stdout"
        }
      ]
    }
  ]
}